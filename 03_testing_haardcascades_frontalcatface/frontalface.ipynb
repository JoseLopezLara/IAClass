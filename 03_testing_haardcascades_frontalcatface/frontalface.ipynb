{
 "cells": [
  {
   "cell_type": "code",
   "execution_count": 2,
   "metadata": {
    "notebookRunGroups": {
     "groupValue": "2"
    }
   },
   "outputs": [
    {
     "name": "stdout",
     "output_type": "stream",
     "text": [
      "Fin del video o error al leer el frame\n"
     ]
    }
   ],
   "source": [
    "import cv2 as cv \n",
    "\n",
    "\n",
    "video_path = 'C:/git/IAClass/assets/forntal_face_detection/test_frontal_face.mp4'\n",
    "haardcascade_path = 'C:/git/IAClass/haardcascades/haarcascade_frontalface_alt.xml'\n",
    "output_directory = 'C:/git/IAClass/03_testing_haardcascades_frontalcatface/captures/'\n",
    "\n",
    "rostro = cv.CascadeClassifier(haardcascade_path)\n",
    "cap = cv.VideoCapture(video_path)\n",
    "\n",
    "if not cap.isOpened():\n",
    "    print(f\"Error: No se pudo abrir el video {video_path}\")\n",
    "    exit()\n",
    "    \n",
    "while True:\n",
    "    ret, img = cap.read()\n",
    "    \n",
    "    # Verificar si se leyó correctamente el frame\n",
    "    if not ret:\n",
    "        print(\"Fin del video o error al leer el frame\")\n",
    "        break\n",
    "    \n",
    "    gris = cv.cvtColor(img, cv.COLOR_BGR2GRAY)\n",
    "    rostros = rostro.detectMultiScale(gris, 1.3, 5)\n",
    "    for(x,y,w,h) in rostros:\n",
    "        res = int((w+h)/8)\n",
    "        img = cv.rectangle(img, (x,y), (x+w, y+h), (234, 23,23), 2)\n",
    "        img = cv.rectangle(img, (x,int(y+h/2)), (x+w, y+h), (0,255,0),5 )\n",
    "        img = cv.circle(img, (x + int(w*0.3), y + int(h*0.4)) , 21, (0, 0, 0), 2 )\n",
    "        img = cv.circle(img, (x + int(w*0.7), y + int(h*0.4)) , 21, (0, 0, 0), 2 )\n",
    "        img = cv.circle(img, (x + int(w*0.3), y + int(h*0.4)) , 20, (255, 255, 255), -1 )\n",
    "        img = cv.circle(img, (x + int(w*0.7), y + int(h*0.4)) , 20, (255, 255, 255), -1 )\n",
    "        img = cv.circle(img, (x + int(w*0.3), y + int(h*0.4)) , 5, (0, 0, 255), -1 )\n",
    "        img = cv.circle(img, (x + int(w*0.7), y + int(h*0.4)) , 5, (0, 0, 255), -1 )\n",
    "\n",
    "    cv.imshow('img', img)\n",
    "    if cv.waitKey(1)== ord('q'):\n",
    "        break\n",
    "    \n",
    "cap.release\n",
    "cv.destroyAllWindows()"
   ]
  },
  {
   "cell_type": "code",
   "execution_count": 3,
   "metadata": {},
   "outputs": [
    {
     "name": "stdout",
     "output_type": "stream",
     "text": [
      "Fin del video o error al leer el frame\n"
     ]
    }
   ],
   "source": [
    "import numpy as np\n",
    "import cv2 as cv\n",
    "import math \n",
    "\n",
    "video_path = 'C:/git/IAClass/assets/forntal_face_detection/test_frontal_face.mp4'\n",
    "haardcascade_path = 'C:/git/IAClass/haardcascades/haarcascade_frontalface_alt.xml'\n",
    "output_directory = 'C:/git/IAClass/03_testing_haardcascades_frontalcatface/captures/'\n",
    "\n",
    "rostro = cv.CascadeClassifier(haardcascade_path)\n",
    "cap = cv.VideoCapture(video_path)\n",
    "i = 0  \n",
    "\n",
    "if not cap.isOpened():\n",
    "    print(f\"Error: No se pudo abrir el video {video_path}\")\n",
    "    exit()\n",
    "\n",
    "while True:\n",
    "    ret, frame = cap.read()\n",
    "\n",
    "    # Verificar si se leyó correctamente el frame\n",
    "    if not ret:\n",
    "        print(\"Fin del video o error al leer el frame\")\n",
    "        break\n",
    "\n",
    "    gray = cv.cvtColor(frame, cv.COLOR_BGR2GRAY)\n",
    "    rostros = rostro.detectMultiScale(gray, 1.3, 5)\n",
    "\n",
    "    for (x, y, w, h) in rostros:\n",
    "        frame = cv.rectangle(frame, (x, y), (x + w, y + h), (0, 255, 0), 2)\n",
    "        frame2 = frame[y:y+h, x:x+w]\n",
    "        frame3 = frame[y+30:y+h-30, x+30:x+w-30]  # Ajuste de índices\n",
    "        frame2 = cv.resize(frame2, (100, 100), interpolation=cv.INTER_AREA)\n",
    "\n",
    "        # Guardar la imagen capturada\n",
    "        cv.imwrite(output_directory + str(i) + '.jpg', frame2)\n",
    "        cv.imshow('rostror', frame2)\n",
    "\n",
    "    # Mostrar el frame con los rostros detectados\n",
    "    cv.imshow('rostros', frame)\n",
    "    i = i + 1\n",
    "\n",
    "    # Salir si se presiona la tecla 'ESC'\n",
    "    k = cv.waitKey(1)\n",
    "    if k == 27:\n",
    "        break\n",
    "\n",
    "cap.release()\n",
    "cv.destroyAllWindows()\n"
   ]
  }
 ],
 "metadata": {
  "kernelspec": {
   "display_name": "Python 3",
   "language": "python",
   "name": "python3"
  },
  "language_info": {
   "codemirror_mode": {
    "name": "ipython",
    "version": 3
   },
   "file_extension": ".py",
   "mimetype": "text/x-python",
   "name": "python",
   "nbconvert_exporter": "python",
   "pygments_lexer": "ipython3",
   "version": "3.12.4"
  }
 },
 "nbformat": 4,
 "nbformat_minor": 2
}
