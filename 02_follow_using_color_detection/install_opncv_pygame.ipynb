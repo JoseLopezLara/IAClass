{
 "cells": [
  {
   "cell_type": "code",
   "execution_count": 19,
   "metadata": {
    "notebookRunGroups": {
     "groupValue": "2"
    }
   },
   "outputs": [],
   "source": [
    "import cv2\n",
    "import numpy as np\n",
    "\n",
    "video_path = 'C:/git/IAClass/assets/color_detection/globo_rojo.mp4'\n",
    "# Iniciar la captura de video desde la cámara\n",
    "cap = cv2.VideoCapture(video_path)\n",
    "\n",
    "# Definir el rango de color que quieres rastrear en el espacio de color HSV\n",
    "# Rango inferior del rojo\n",
    "lower_red1 = (0, 100, 100)     \n",
    "upper_red1 = (10, 255, 255)    \n",
    "# Rango superior del rojo\n",
    "lower_red2 = (170, 100, 100)   \n",
    "upper_red2 = (180, 255, 255)   \n",
    "\n",
    "while True:\n",
    "    # Capturar frame por frame\n",
    "    ret, frame = cap.read()\n",
    "    if not ret:\n",
    "        break\n",
    "    \n",
    "    # Convertir el frame de BGR a HSV\n",
    "    hsv = cv2.cvtColor(frame, cv2.COLOR_BGR2HSV)\n",
    "    \n",
    "    # Crear una máscara que detecte solo el color rojo\n",
    "    # Crear las dos máscaras para el rango inferior y superior del rojo\n",
    "    mask1 = cv2.inRange(hsv, lower_red1, upper_red1)\n",
    "    mask2 = cv2.inRange(hsv, lower_red2, upper_red2)\n",
    "    mask = cv2.bitwise_or(mask1, mask2)\n",
    "    \n",
    "    # Filtrar la máscara con operaciones morfológicas\n",
    "    mask = cv2.erode(mask, None, iterations=2)\n",
    "    mask = cv2.dilate(mask, None, iterations=2)\n",
    "    \n",
    "    \n",
    "    # Encontrar contornos en la máscara\n",
    "    contours, _ = cv2.findContours(mask, cv2.RETR_EXTERNAL, cv2.CHAIN_APPROX_SIMPLE)\n",
    "    \n",
    "    # Si se encuentra al menos un contorno, seguir el objeto\n",
    "    if contours:\n",
    "        # Tomar el contorno más grande\n",
    "        largest_contour = max(contours, key=cv2.contourArea)\n",
    "        \n",
    "        # Encontrar el centro del contorno usando un círculo mínimo que lo rodee\n",
    "        ((x, y), radius) = cv2.minEnclosingCircle(largest_contour)\n",
    "        \n",
    "        # Dibujar el círculo y el centro en el frame original si el radio es mayor que un umbral\n",
    "        if radius > 10:\n",
    "            cv2.circle(frame, (int(x), int(y)), int(radius), (0, 255, 255), 2)\n",
    "            cv2.circle(frame, (int(x), int(y)), 5, (0, 255, 255), -1)\n",
    "            \n",
    "            # Calcular las coordenadas del rectángulo a partir del centro y el radio\n",
    "            top_left = (int(x - radius), int(y - radius))  # Esquina superior izquierda\n",
    "            bottom_right = (int(x + radius), int(y + radius))  # Esquina inferior derecha\n",
    "            \n",
    "            # Dibujar el rectángulo verde que rodea al segmento\n",
    "            cv2.rectangle(frame, top_left, bottom_right, (0, 255, 0), 2)  # Color verde (0, 255, 0)\n",
    "    \n",
    "    # Mostrar el frame\n",
    "    cv2.imshow('Frame', frame)\n",
    "    cv2.imshow('Mask', mask)\n",
    "\n",
    "    # Salir si se presiona la tecla 'q'\n",
    "    if cv2.waitKey(1) & 0xFF == ord('q'):\n",
    "        break\n",
    "\n",
    "# Liberar la captura y cerrar todas las ventanas\n",
    "cap.release()\n",
    "cv2.destroyAllWindows()\n"
   ]
  },
  {
   "cell_type": "code",
   "execution_count": null,
   "metadata": {},
   "outputs": [],
   "source": []
  }
 ],
 "metadata": {
  "kernelspec": {
   "display_name": "Python 3",
   "language": "python",
   "name": "python3"
  },
  "language_info": {
   "codemirror_mode": {
    "name": "ipython",
    "version": 3
   },
   "file_extension": ".py",
   "mimetype": "text/x-python",
   "name": "python",
   "nbconvert_exporter": "python",
   "pygments_lexer": "ipython3",
   "version": "3.12.4"
  }
 },
 "nbformat": 4,
 "nbformat_minor": 2
}
