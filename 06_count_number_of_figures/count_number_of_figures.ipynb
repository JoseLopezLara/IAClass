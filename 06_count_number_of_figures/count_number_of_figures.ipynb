{
 "cells": [
  {
   "cell_type": "code",
   "execution_count": 4,
   "metadata": {
    "notebookRunGroups": {
     "groupValue": "1"
    }
   },
   "outputs": [],
   "source": [
    "import cv2 as cv\n",
    "\n",
    "\n",
    "image_path = 'C:/git/IAClass/assets/color_detection/images/image_with_multiple_color_images.jpg'\n",
    "\n",
    "img = cv.imread('salida.jpg')\n",
    "img2 = cv.cvtColor(img, cv.COLOR_BGR2RGB)\n",
    "img3 = cv.cvtColor(img2, cv.COLOR_RGB2HSV)\n",
    "\n",
    "umbralBajo=(0, 80, 80  )\n",
    "umbralAlto=(10, 255, 255)\n",
    "umbralBajoB=(170, 80,80)\n",
    "umbralAltoB=(180, 255, 255)\n",
    "\n",
    "\n",
    "mascara1 = cv.inRange(img3, umbralBajo, umbralAlto)\n",
    "mascara2 = cv.inRange(img3, umbralBajoB, umbralAltoB)\n",
    "\n",
    "mascara = mascara1 + mascara2\n",
    "\n",
    "resultado = cv.bitwise_and(img, img, mask=mascara)\n",
    "\n",
    "cv.imshow('img', img)\n",
    "\n",
    "\n",
    "# cv.imshow('resultado', resultado)\n",
    "# cv.imshow('mascara', mascara)\n",
    "# cv.imshow('img',img)\n",
    "# cv.imshow('img2', img2)\n",
    "# cv.imshow('img3', img3)\n",
    "\n",
    "cv.waitKey(0)\n",
    "cv.destroyAllWindows()"
   ]
  },
  {
   "cell_type": "code",
   "execution_count": 3,
   "metadata": {},
   "outputs": [],
   "source": [
    "import cv2 as cv\n",
    "\n",
    "img = cv.imread('salida.jpg')\n",
    "\n",
    "cv.imshow('img', img)\n",
    "\n",
    "cv.waitKey(0)\n",
    "cv.destroyAllWindows()"
   ]
  }
 ],
 "metadata": {
  "kernelspec": {
   "display_name": "Python 3",
   "language": "python",
   "name": "python3"
  },
  "language_info": {
   "codemirror_mode": {
    "name": "ipython",
    "version": 3
   },
   "file_extension": ".py",
   "mimetype": "text/x-python",
   "name": "python",
   "nbconvert_exporter": "python",
   "pygments_lexer": "ipython3",
   "version": "3.12.4"
  }
 },
 "nbformat": 4,
 "nbformat_minor": 2
}
