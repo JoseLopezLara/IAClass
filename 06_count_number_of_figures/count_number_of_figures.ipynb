{
 "cells": [
  {
   "cell_type": "code",
   "execution_count": 3,
   "metadata": {},
   "outputs": [
    {
     "name": "stdout",
     "output_type": "stream",
     "text": [
      "Número de islas: 5\n"
     ]
    }
   ],
   "source": [
    "def contar_islas(matriz):\n",
    "    if not matriz:\n",
    "        return 0\n",
    "\n",
    "    filas = len(matriz)\n",
    "    columnas = len(matriz[0])\n",
    "    contador = 0\n",
    "\n",
    "    # Función auxiliar de DFS para marcar todas las celdas conectadas de la isla\n",
    "    def dfs(matriz, i, j):\n",
    "        # Verifica los límites de la matriz y si la celda es agua o ya fue visitada\n",
    "        if i < 0 or i >= filas or j < 0 or j >= columnas or matriz[i][j] == 0:\n",
    "            return\n",
    "        # Marca la celda como visitada\n",
    "        matriz[i][j] = 0\n",
    "        # Llama recursivamente a los vecinos (arriba, abajo, izquierda, derecha)\n",
    "        dfs(matriz, i - 1, j)  # Arriba\n",
    "        dfs(matriz, i + 1, j)  # Abajo\n",
    "        dfs(matriz, i, j - 1)  # Izquierda\n",
    "        dfs(matriz, i, j + 1)  # Derecha\n",
    "\n",
    "    # Recorre cada celda de la matriz\n",
    "    for i in range(filas):\n",
    "        for j in range(columnas):\n",
    "            # Si encuentra una isla (1), aplica DFS para marcar la isla y aumenta el contador\n",
    "            if matriz[i][j] == 1:\n",
    "                dfs(matriz, i, j)\n",
    "                contador += 1\n",
    "\n",
    "    return contador\n",
    "\n",
    "# Ejemplo de uso\n",
    "matriz = [\n",
    "    [1, 1, 0, 0, 0],\n",
    "    [1, 1, 0, 0, 1],\n",
    "    [0, 0, 0, 1, 1],\n",
    "    [0, 0, 0, 0, 0],\n",
    "    [1, 0, 1, 0, 1]\n",
    "]\n",
    "\n",
    "resultado = contar_islas(matriz)\n",
    "print(f\"Número de islas: {resultado}\")\n"
   ]
  },
  {
   "cell_type": "code",
   "execution_count": 5,
   "metadata": {},
   "outputs": [],
   "source": [
    "import cv2 as cv\n",
    "\n",
    "image_path = 'C:/git/IAClass/06_count_number_of_figures/image_with_multiple_color_images.jpg'\n",
    "\n",
    "img = cv.imread(image_path, 1)\n",
    "img_hsv = cv.cvtColor(img, cv.COLOR_BGR2HSV)\n",
    "\n",
    "lower_red_a=(0, 80, 80  )\n",
    "upper_red_a=(10, 255, 255)\n",
    "lower_red_b=(170, 80,80)\n",
    "upper_red_b=(180, 255, 255)\n",
    "\n",
    "\n",
    "mask_red_a = cv.inRange(img_hsv, lower_red_a, upper_red_a)\n",
    "mask_red_b = cv.inRange(img_hsv, lower_red_b, upper_red_b)\n",
    "q\n",
    "mask_red_a_b = mask_red_a + mask_red_b\n",
    "\n",
    "mask_red = cv.bitwise_and(img, img, mask=mask_red_a_b)\n",
    "\n",
    "cv.imshow('mask_red', mask_red)\n",
    "cv.imshow('mask_red_a_b', mask_red_a_b)\n",
    "\n",
    "\n",
    "cv.waitKey(0)\n",
    "cv.destroyAllWindows()"
   ]
  }
 ],
 "metadata": {
  "kernelspec": {
   "display_name": "Python 3",
   "language": "python",
   "name": "python3"
  },
  "language_info": {
   "codemirror_mode": {
    "name": "ipython",
    "version": 3
   },
   "file_extension": ".py",
   "mimetype": "text/x-python",
   "name": "python",
   "nbconvert_exporter": "python",
   "pygments_lexer": "ipython3",
   "version": "3.12.4"
  }
 },
 "nbformat": 4,
 "nbformat_minor": 2
}
