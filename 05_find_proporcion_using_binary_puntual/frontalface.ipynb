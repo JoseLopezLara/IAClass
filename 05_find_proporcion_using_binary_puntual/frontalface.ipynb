{
 "cells": [
  {
   "cell_type": "code",
   "execution_count": 5,
   "metadata": {},
   "outputs": [
    {
     "name": "stdout",
     "output_type": "stream",
     "text": [
      "Fin del video o error al leer el frame\n"
     ]
    }
   ],
   "source": [
    "import numpy as np\n",
    "import cv2 as cv\n",
    "import math \n",
    "\n",
    "video_path = 'C:/git/IAClass/assets/forntal_face_detection/test_frontal_face.mp4'\n",
    "haardcascade_path = 'C:/git/IAClass/haardcascades/haarcascade_frontalface_alt.xml'\n",
    "output_directory = 'C:/git/IAClass/05_find_proporcion_using_binary_puntual/captures/'\n",
    "\n",
    "rostro = cv.CascadeClassifier(haardcascade_path)\n",
    "cap = cv.VideoCapture(video_path)\n",
    "i = 0  \n",
    "\n",
    "if not cap.isOpened():\n",
    "    print(f\"Error: No se pudo abrir el video {video_path}\")\n",
    "    exit()\n",
    "\n",
    "while True:\n",
    "    ret, frame = cap.read()\n",
    "\n",
    "    # Verificar si se leyó correctamente el frame\n",
    "    if not ret:\n",
    "        print(\"Fin del video o error al leer el frame\")\n",
    "        break\n",
    "\n",
    "    gray = cv.cvtColor(frame, cv.COLOR_BGR2GRAY)\n",
    "    rostros = rostro.detectMultiScale(gray, 1.3, 5)\n",
    "    \n",
    "\n",
    "    for (x, y, w, h) in rostros:\n",
    "        frame = cv.rectangle(frame, (x, y), (x + w, y + h), (0, 255, 0), 2)\n",
    "        frame2 = frame[y:y+h, x:x+w]\n",
    "        frame3 = frame[y+30:y+h-30, x+30:x+w-30]  # Ajuste de índices\n",
    "        frame2 = cv.resize(frame2, (100, 100), interpolation=cv.INTER_AREA)\n",
    "\n",
    "        # Guardar la imagen capturada\n",
    "        #cv.imwrite(output_directory + str(i) + '.jpg', frame2)\n",
    "        cv.imshow('rostror', frame2)\n",
    "        \n",
    "        # Pasing to gray scale\n",
    "        frame_face_recorted_gray = cv.cvtColor(frame2, cv.COLOR_BGR2GRAY)\n",
    "        cv.imshow('rostro_gray', frame_face_recorted_gray)\n",
    "        \n",
    "        # Passing to binary\n",
    "        _, frame_face_binary = cv.threshold(frame_face_recorted_gray, 127, 255, cv.THRESH_BINARY)\n",
    "        cv.imshow('rostro_binary', frame_face_binary)\n",
    "        \n",
    "        # 100 x 100px binary image\n",
    "        frame_face_binary_100_100 = cv.resize(frame_face_binary, (100, 100), interpolation=cv.INTER_AREA)\n",
    "        cv.imwrite(output_directory + 'image_n' + str(i) + '_px_' + '100_100' + '.jpg', frame_face_binary_100_100)\n",
    "        \n",
    "        #----\n",
    "\n",
    "        # 100 x 100px binary image\n",
    "        frame_face_binary_80_80 = cv.resize(frame_face_binary, (80, 80), interpolation=cv.INTER_AREA)\n",
    "        cv.imwrite(output_directory + 'image_n' + str(i) + '_px_' + '80_80' + '.jpg', frame_face_binary_80_80)\n",
    "\n",
    "    # Mostrar el frame con los rostros detectados\n",
    "    cv.imshow('rostros', frame)\n",
    "    i = i + 1\n",
    "\n",
    "    # Salir si se presiona la tecla 'ESC'\n",
    "    k = cv.waitKey(1)\n",
    "    if k == 27:\n",
    "        break\n",
    "\n",
    "cap.release()\n",
    "cv.destroyAllWindows()\n"
   ]
  }
 ],
 "metadata": {
  "kernelspec": {
   "display_name": "Python 3",
   "language": "python",
   "name": "python3"
  },
  "language_info": {
   "codemirror_mode": {
    "name": "ipython",
    "version": 3
   },
   "file_extension": ".py",
   "mimetype": "text/x-python",
   "name": "python",
   "nbconvert_exporter": "python",
   "pygments_lexer": "ipython3",
   "version": "3.12.4"
  }
 },
 "nbformat": 4,
 "nbformat_minor": 2
}
